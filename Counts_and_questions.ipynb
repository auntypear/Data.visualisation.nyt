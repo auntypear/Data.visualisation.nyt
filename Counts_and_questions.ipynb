{
 "cells": [
  {
   "cell_type": "code",
   "execution_count": 26,
   "metadata": {},
   "outputs": [
    {
     "name": "stdout",
     "output_type": "stream",
     "text": [
      "Total number of restaurants in the 2024 guide: 50\n",
      "\n",
      "Top five states and number of restaurants:\n",
      "California      5\n",
      "New York        4\n",
      "Colarado        3\n",
      "Pennsylvania    3\n",
      "Texas           3\n",
      "\n",
      "Top five types of cuisine:\n",
      "New American    7\n",
      "Mexican         4\n",
      "Southern        3\n",
      "Seafood         3\n",
      "Barbecue        2\n",
      "\n",
      "Top five types of cuisine:\n",
      "New American    7\n",
      "Mexican         4\n",
      "Southern        3\n",
      "Seafood         3\n",
      "Barbecue        2\n",
      "\n",
      "Most popular type of cuisine in each of the top five states:\n",
      "California: Indo-Tex\n",
      "New York: New American\n",
      "Colarado: Vietnamese\n",
      "Pennsylvania: French\n",
      "Texas: Indian\n"
     ]
    }
   ],
   "source": [
    "\n",
    "# Load the data\n",
    "df = pd.read_csv(\"nytimes_best_restaurants_2024.csv\", encoding=\"ISO-8859-1\")\n",
    "\n",
    "# Dictionary to map state abbreviations to full state names\n",
    "state_abbr_to_full = {\n",
    "    'CA': 'California',\n",
    "    'NY': 'New York',\n",
    "    'TX': 'Texas',\n",
    "    'CO': 'Colarado',\n",
    "    'PA': 'Pennsylvania',\n",
    "    # Add other state abbreviations and their full names as needed\n",
    "}\n",
    "\n",
    "# Replace abbreviated state names with full state names\n",
    "df['state'] = df['state'].replace(state_abbr_to_full)\n",
    "\n",
    "# Get the total number of unique restaurants\n",
    "total_restaurants = df['restaurant_name'].nunique()\n",
    "print(f\"Total number of restaurants in the 2024 guide: {total_restaurants}\\n\")\n",
    "\n",
    "# Count occurrences of each unique value in the 'state' column\n",
    "state_count = df['state'].value_counts()\n",
    "\n",
    "# Get the top five states with the most restaurants\n",
    "top_five_states = state_count.head(5)\n",
    "print(\"Top five states and number of restaurants:\")\n",
    "print(top_five_states.to_string(header=False))\n",
    "\n",
    "# Count occurrences of each unique value in the 'cuisine_type' column\n",
    "cuisine_count = df['cuisine_type'].value_counts()\n",
    "\n",
    "# Get the top five types of quisine\n",
    "top_five_cuisine = cuisine_count.head(5)\n",
    "print(\"\\nTop five types of cuisine:\")\n",
    "print(top_five_cuisine.to_string(header=False))\n",
    "\n",
    "# Get the top five types of cuisine\n",
    "top_five_cuisine = cuisine_count.head(5)\n",
    "print(\"\\nTop five types of cuisine:\")\n",
    "print(top_five_cuisine.to_string(header=False))\n",
    "\n",
    "# Find the most popular type of cuisine in each of the top five states\n",
    "print(\"\\nMost popular type of cuisine in each of the top five states:\")\n",
    "for state in top_five_states.index:\n",
    "    most_popular_cuisine = df[df['state'] == state]['cuisine_type'].value_counts().idxmax()\n",
    "    print(f\"{state}: {most_popular_cuisine}\")"
   ]
  }
 ],
 "metadata": {
  "kernelspec": {
   "display_name": "base",
   "language": "python",
   "name": "python3"
  },
  "language_info": {
   "codemirror_mode": {
    "name": "ipython",
    "version": 3
   },
   "file_extension": ".py",
   "mimetype": "text/x-python",
   "name": "python",
   "nbconvert_exporter": "python",
   "pygments_lexer": "ipython3",
   "version": "3.12.7"
  }
 },
 "nbformat": 4,
 "nbformat_minor": 2
}
