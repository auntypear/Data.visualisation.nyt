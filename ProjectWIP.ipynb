{
 "cells": [
  {
   "cell_type": "code",
   "execution_count": 7,
   "metadata": {},
   "outputs": [
    {
     "name": "stdout",
     "output_type": "stream",
     "text": [
      "cuisine_type\n",
      "New American             6\n",
      "Mexican                  4\n",
      "Seafood                  3\n",
      "Indian                   2\n",
      "Persian                  2\n",
      "Vietnamese               2\n",
      "Barbecue                 2\n",
      "Korean                   2\n",
      "Southern                 2\n",
      "French, New American     1\n",
      "Mediterranean            1\n",
      "Bistro                   1\n",
      "Thai, Chinese            1\n",
      "Thai                     1\n",
      "Polish                   1\n",
      "Nordic Seafood           1\n",
      "Soul Food                1\n",
      "Laotian                  1\n",
      "Kurdish, Turkish         1\n",
      "Soul Food, Southern      1\n",
      "Raw Bar                  1\n",
      "Levantine                1\n",
      "Oyster, New American     1\n",
      "Hmong                    1\n",
      "Indo-Tex                 1\n",
      "Steakhouse               1\n",
      "Scottish                 1\n",
      "French                   1\n",
      "Italian, Pizza           1\n",
      "Chinese, Cantonese       1\n",
      "Italian, New American    1\n",
      "Cantonese                1\n",
      "French-Japanese          1\n",
      "Guamanian                1\n",
      "Name: count, dtype: int64\n"
     ]
    }
   ],
   "source": [
    "import pandas as pd\n",
    "import numpy as np\n",
    "import seaborn as sns\n",
    "import matplotlib.pyplot as plt\n",
    "\n",
    "import csv\n",
    "\n",
    "df = pd.read_csv(\"nytimes_best_restaurants_2024.csv\")\n",
    "\n",
    "#print(df.head())\n",
    "#print(df.info())\n",
    "#print(df.describe())\n",
    "#print(df.isnull().sum())\n",
    "\n",
    "cuisine_type = df['cuisine_type'].value_counts()\n",
    "print(cuisine_type)\n",
    "\n",
    "# Save the value counts as a DataFrame and then to a CSV\n",
    "cuisine_type = df['cuisine_type'].value_counts()\n",
    "cuisine_type.to_csv('cuisine_type.csv', header=['Count'], index_label='Cuisine')\n",
    "\n",
    "#state = df['state'].value_counts()\n",
    "#print(state)\n",
    "\n",
    "# Save the value counts as a DataFrame and then to a CSV\n",
    "#state = df['state'].value_counts()\n",
    "#state.to_csv('state_counts.csv', header=['Count'], index_label='State')\n",
    "\n",
    "\n",
    "\n",
    "\n"
   ]
  }
 ],
 "metadata": {
  "kernelspec": {
   "display_name": "base",
   "language": "python",
   "name": "python3"
  },
  "language_info": {
   "codemirror_mode": {
    "name": "ipython",
    "version": 3
   },
   "file_extension": ".py",
   "mimetype": "text/x-python",
   "name": "python",
   "nbconvert_exporter": "python",
   "pygments_lexer": "ipython3",
   "version": "3.12.7"
  }
 },
 "nbformat": 4,
 "nbformat_minor": 2
}
